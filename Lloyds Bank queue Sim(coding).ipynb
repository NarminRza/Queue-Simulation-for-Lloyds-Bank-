{
 "cells": [
  {
   "cell_type": "code",
   "execution_count": 112,
   "id": "07b222cf",
   "metadata": {},
   "outputs": [
    {
     "data": {
      "text/html": [
       "<table>\n",
       "<thead><tr><th scope=col>CustomerNumber</th><th scope=col>Inter.arrival.time.minutes.</th><th scope=col>waiting.time</th><th scope=col>service.time.minutes.</th><th scope=col>waiting.time.for.counter.table</th><th scope=col>service.time.for.counter.table</th><th scope=col>X</th><th scope=col>X.1</th><th scope=col>X.2</th></tr></thead>\n",
       "<tbody>\n",
       "\t<tr><td>C1   </td><td>1.50 </td><td>0    </td><td>0.50 </td><td>15   </td><td>16.00</td><td>NA   </td><td>NA   </td><td>NA   </td></tr>\n",
       "\t<tr><td>C2   </td><td>3.50 </td><td>0    </td><td>0.50 </td><td> 7   </td><td>26.00</td><td>NA   </td><td>NA   </td><td>NA   </td></tr>\n",
       "\t<tr><td>C3   </td><td>1.83 </td><td>0    </td><td>1.50 </td><td>17   </td><td>28.33</td><td>NA   </td><td>NA   </td><td>NA   </td></tr>\n",
       "\t<tr><td>C4   </td><td>3.33 </td><td>0    </td><td>0.33 </td><td>12   </td><td>28.08</td><td>NA   </td><td>NA   </td><td>NA   </td></tr>\n",
       "\t<tr><td>C5   </td><td>4.33 </td><td>0    </td><td>0.42 </td><td>15   </td><td>27.00</td><td>NA   </td><td>NA   </td><td>NA   </td></tr>\n",
       "\t<tr><td>C6   </td><td>3.50 </td><td>0    </td><td>0.62 </td><td> 2   </td><td> 7.83</td><td>NA   </td><td>NA   </td><td>NA   </td></tr>\n",
       "</tbody>\n",
       "</table>\n"
      ],
      "text/latex": [
       "\\begin{tabular}{r|lllllllll}\n",
       " CustomerNumber & Inter.arrival.time.minutes. & waiting.time & service.time.minutes. & waiting.time.for.counter.table & service.time.for.counter.table & X & X.1 & X.2\\\\\n",
       "\\hline\n",
       "\t C1    & 1.50  & 0     & 0.50  & 15    & 16.00 & NA    & NA    & NA   \\\\\n",
       "\t C2    & 3.50  & 0     & 0.50  &  7    & 26.00 & NA    & NA    & NA   \\\\\n",
       "\t C3    & 1.83  & 0     & 1.50  & 17    & 28.33 & NA    & NA    & NA   \\\\\n",
       "\t C4    & 3.33  & 0     & 0.33  & 12    & 28.08 & NA    & NA    & NA   \\\\\n",
       "\t C5    & 4.33  & 0     & 0.42  & 15    & 27.00 & NA    & NA    & NA   \\\\\n",
       "\t C6    & 3.50  & 0     & 0.62  &  2    &  7.83 & NA    & NA    & NA   \\\\\n",
       "\\end{tabular}\n"
      ],
      "text/markdown": [
       "\n",
       "| CustomerNumber | Inter.arrival.time.minutes. | waiting.time | service.time.minutes. | waiting.time.for.counter.table | service.time.for.counter.table | X | X.1 | X.2 |\n",
       "|---|---|---|---|---|---|---|---|---|\n",
       "| C1    | 1.50  | 0     | 0.50  | 15    | 16.00 | NA    | NA    | NA    |\n",
       "| C2    | 3.50  | 0     | 0.50  |  7    | 26.00 | NA    | NA    | NA    |\n",
       "| C3    | 1.83  | 0     | 1.50  | 17    | 28.33 | NA    | NA    | NA    |\n",
       "| C4    | 3.33  | 0     | 0.33  | 12    | 28.08 | NA    | NA    | NA    |\n",
       "| C5    | 4.33  | 0     | 0.42  | 15    | 27.00 | NA    | NA    | NA    |\n",
       "| C6    | 3.50  | 0     | 0.62  |  2    |  7.83 | NA    | NA    | NA    |\n",
       "\n"
      ],
      "text/plain": [
       "  CustomerNumber Inter.arrival.time.minutes. waiting.time service.time.minutes.\n",
       "1 C1             1.50                        0            0.50                 \n",
       "2 C2             3.50                        0            0.50                 \n",
       "3 C3             1.83                        0            1.50                 \n",
       "4 C4             3.33                        0            0.33                 \n",
       "5 C5             4.33                        0            0.42                 \n",
       "6 C6             3.50                        0            0.62                 \n",
       "  waiting.time.for.counter.table service.time.for.counter.table X  X.1 X.2\n",
       "1 15                             16.00                          NA NA  NA \n",
       "2  7                             26.00                          NA NA  NA \n",
       "3 17                             28.33                          NA NA  NA \n",
       "4 12                             28.08                          NA NA  NA \n",
       "5 15                             27.00                          NA NA  NA \n",
       "6  2                              7.83                          NA NA  NA "
      ]
     },
     "metadata": {},
     "output_type": "display_data"
    }
   ],
   "source": [
    "#step1 import data, import library\n",
    "#install.packages(\"fitdistrplus\", type = \"source\")\n",
    "library(fitdistrplus)\n",
    "data <- read.csv(\"D:/Files/jupytercode/orcoursework/ATMData.csv\")\n",
    "head(data)"
   ]
  },
  {
   "cell_type": "code",
   "execution_count": 5,
   "id": "c9d96cc5",
   "metadata": {},
   "outputs": [
    {
     "ename": "ERROR",
     "evalue": "Error in fitdist(): 缺少参数\"distr\",也没有缺省值\n",
     "output_type": "error",
     "traceback": [
      "Error in fitdist(): 缺少参数\"distr\",也没有缺省值\nTraceback:\n",
      "1. fitdist()"
     ]
    }
   ],
   "source": []
  },
  {
   "cell_type": "code",
   "execution_count": 113,
   "id": "cba4bdb2",
   "metadata": {
    "scrolled": false
   },
   "outputs": [
    {
     "data": {
      "image/png": "[encoded data removed]",
      "text/plain": [
       "Plot with title \"Service time for counter table\""
      ]
     },
     "metadata": {},
     "output_type": "display_data"
    }
   ],
   "source": [
    "#step2 Raw data analysis\n",
    "par(mfrow=c(2,2))\n",
    "boxplot(data$Inter.arrival.time.minutes., horizontal = TRUE, main = \"Inter arrival time\", col = \"lightblue\", border = \"black\")\n",
    "#boxplot(data$waiting.time, horizontal = TRUE, main = \"waiting.time\", col = \"lightblue\", border = \"black\")\n",
    "boxplot(data$service.time.minutes., horizontal = TRUE, main = \"Service time for ATM\", col = \"lightblue\", border = \"black\")\n",
    "boxplot(data$waiting.time.for.counter.table, horizontal = TRUE, main = \"Waiting time for counter table\", col = \"lightblue\", border = \"black\")\n",
    "boxplot(data$service.time.for.counter.table, horizontal = TRUE, main = \"Service time for counter table\", col = \"lightblue\", border = \"black\")\n",
    "\n"
   ]
  },
  {
   "cell_type": "code",
   "execution_count": 114,
   "id": "e21c9745",
   "metadata": {},
   "outputs": [
    {
     "data": {
      "image/png": "[encoded data removed]",
      "text/plain": [
       "Plot with title \"Service Time(Counter Table)\""
      ]
     },
     "metadata": {},
     "output_type": "display_data"
    }
   ],
   "source": [
    "#step3  Data cleaning\n",
    "replace_with_mean <- function(column) {\n",
    "  # mean\n",
    "  mean_value <- mean(column, na.rm = TRUE)\n",
    "  \n",
    "  # outliers\n",
    "  outliers <- which(column < quantile(column, 0.25) - 1.5 * IQR(column) | column > quantile(column, 0.75) + 1.5 * IQR(column))\n",
    "  \n",
    "  # replace outliers with the mean\n",
    "  column[outliers] <- mean_value\n",
    "  \n",
    "  return(column)\n",
    "}\n",
    "\n",
    "# 对三列数据应用函数\n",
    "data$Inter.arrival.time.minutes. <- replace_with_mean(data$Inter.arrival.time.minutes.)\n",
    "data$waiting.time <- replace_with_mean(data$waiting.time)\n",
    "data$service.time.minutes. <- replace_with_mean(data$service.time.minutes.)\n",
    "data$waiting.time.for.counter.table <- replace_with_mean(data$waiting.time.for.counter.table)\n",
    "data$service.time.for.counter.table <- replace_with_mean(data$service.time.for.counter.table)\n",
    "par(mfrow=c(2,2))\n",
    "hist(data$Inter.arrival.time.minutes.,freq=FALSE, main = \"Interarrival Time Distribution\", xlab = \"Interarrival Time\", col = \"blue\", border = \"black\")\n",
    "lines(density(data$Inter.arrival.time.minutes.), col='red', lwd=5)\n",
    "hist(data$service.time.minutes.,freq=FALSE, main = \"Service Time Distribution(ATM)\", xlab = \"Service Time\", col = \"blue\", border = \"black\")\n",
    "lines(density(data$service.time.minutes.), col='red', lwd=5)\n",
    "#hist(data$waiting.time, main = \"waiting Time Distribution\", xlab = \"Interarrival Time\", col = \"blue\", border = \"black\")\n",
    "hist(data$waiting.time.for.counter.table,freq=FALSE, main = \"Waiting Time(Counter Table）\", xlab = \"Waiting Time\", col = \"blue\", border = \"black\")\n",
    "lines(density(data$waiting.time.for.counter.table), col='red', lwd=5)\n",
    "hist(data$service.time.for.counter.table,freq=FALSE, main = \"Service Time(Counter Table)\", xlab = \"Service Time\", col = \"blue\", border = \"black\")\n",
    "lines(density(data$service.time.for.counter.table), col='red', lwd=5)"
   ]
  },
  {
   "cell_type": "code",
   "execution_count": 117,
   "id": "d6f73616",
   "metadata": {},
   "outputs": [
    {
     "data": {
      "text/html": [
       "160.192914182232"
      ],
      "text/latex": [
       "160.192914182232"
      ],
      "text/markdown": [
       "160.192914182232"
      ],
      "text/plain": [
       "[1] 160.1929"
      ]
     },
     "metadata": {},
     "output_type": "display_data"
    },
    {
     "data": {
      "text/html": [
       "173.144412857594"
      ],
      "text/latex": [
       "173.144412857594"
      ],
      "text/markdown": [
       "173.144412857594"
      ],
      "text/plain": [
       "[1] 173.1444"
      ]
     },
     "metadata": {},
     "output_type": "display_data"
    },
    {
     "data": {
      "text/html": [
       "182.456460253966"
      ],
      "text/latex": [
       "182.456460253966"
      ],
      "text/markdown": [
       "182.456460253966"
      ],
      "text/plain": [
       "[1] 182.4565"
      ]
     },
     "metadata": {},
     "output_type": "display_data"
    },
    {
     "data": {
      "text/html": [
       "56.9865152714519"
      ],
      "text/latex": [
       "56.9865152714519"
      ],
      "text/markdown": [
       "56.9865152714519"
      ],
      "text/plain": [
       "[1] 56.98652"
      ]
     },
     "metadata": {},
     "output_type": "display_data"
    },
    {
     "data": {
      "text/html": [
       "71.9084275115292"
      ],
      "text/latex": [
       "71.9084275115292"
      ],
      "text/markdown": [
       "71.9084275115292"
      ],
      "text/plain": [
       "[1] 71.90843"
      ]
     },
     "metadata": {},
     "output_type": "display_data"
    },
    {
     "data": {
      "text/html": [
       "101.750030833199"
      ],
      "text/latex": [
       "101.750030833199"
      ],
      "text/markdown": [
       "101.750030833199"
      ],
      "text/plain": [
       "[1] 101.75"
      ]
     },
     "metadata": {},
     "output_type": "display_data"
    },
    {
     "data": {
      "text/html": [
       "-368.326980195839"
      ],
      "text/latex": [
       "-368.326980195839"
      ],
      "text/markdown": [
       "-368.326980195839"
      ],
      "text/plain": [
       "[1] -368.327"
      ]
     },
     "metadata": {},
     "output_type": "display_data"
    },
    {
     "data": {
      "text/html": [
       "-222.854908241662"
      ],
      "text/latex": [
       "-222.854908241662"
      ],
      "text/markdown": [
       "-222.854908241662"
      ],
      "text/plain": [
       "[1] -222.8549"
      ]
     },
     "metadata": {},
     "output_type": "display_data"
    },
    {
     "data": {
      "text/html": [
       "188.956618059217"
      ],
      "text/latex": [
       "188.956618059217"
      ],
      "text/markdown": [
       "188.956618059217"
      ],
      "text/plain": [
       "[1] 188.9566"
      ]
     },
     "metadata": {},
     "output_type": "display_data"
    },
    {
     "data": {
      "text/html": [
       "209.200250052088"
      ],
      "text/latex": [
       "209.200250052088"
      ],
      "text/markdown": [
       "209.200250052088"
      ],
      "text/plain": [
       "[1] 209.2003"
      ]
     },
     "metadata": {},
     "output_type": "display_data"
    },
    {
     "data": {
      "text/html": [
       "190.08857552879"
      ],
      "text/latex": [
       "190.08857552879"
      ],
      "text/markdown": [
       "190.08857552879"
      ],
      "text/plain": [
       "[1] 190.0886"
      ]
     },
     "metadata": {},
     "output_type": "display_data"
    },
    {
     "data": {
      "text/html": [
       "371.148749096506"
      ],
      "text/latex": [
       "371.148749096506"
      ],
      "text/markdown": [
       "371.148749096506"
      ],
      "text/plain": [
       "[1] 371.1487"
      ]
     },
     "metadata": {},
     "output_type": "display_data"
    },
    {
     "data": {
      "text/html": [
       "287.037186524317"
      ],
      "text/latex": [
       "287.037186524317"
      ],
      "text/markdown": [
       "287.037186524317"
      ],
      "text/plain": [
       "[1] 287.0372"
      ]
     },
     "metadata": {},
     "output_type": "display_data"
    },
    {
     "data": {
      "text/html": [
       "285.052028883187"
      ],
      "text/latex": [
       "285.052028883187"
      ],
      "text/markdown": [
       "285.052028883187"
      ],
      "text/plain": [
       "[1] 285.052"
      ]
     },
     "metadata": {},
     "output_type": "display_data"
    }
   ],
   "source": [
    "#step4 Fit distribution  #For each data, choose the distribution having the lowest aic value\n",
    "fitdist(data$Inter.arrival.time.minutes, 'gamma')$aic\n",
    "fitdist(data$Inter.arrival.time.minutes, 'norm')$aic\n",
    "fitdist(data$Inter.arrival.time.minutes, 'exp')$aic\n",
    "fitdist(data$service.time.minutes., 'gamma')$aic\n",
    "fitdist(data$service.time.minutes., 'norm')$aic\n",
    "fitdist(data$service.time.minutes., 'exp')$aic\n",
    "fitdist(data$waiting.time, 'exp')$aic\n",
    "fitdist(data$waiting.time, 'norm')$aic\n",
    "fitdist(data$waiting.time.for.counter.table, 'exp')$aic\n",
    "fitdist(data$waiting.time.for.counter.table, 'norm')$aic\n",
    "fitdist(data$waiting.time.for.counter.table, 'gamma')$aic\n",
    "fitdist(data$service.time.for.counter.table, 'exp')$aic\n",
    "fitdist(data$service.time.for.counter.table, 'norm')$aic\n",
    "fitdist(data$service.time.for.counter.table, 'gamma')$aic"
   ]
  },
  {
   "cell_type": "code",
   "execution_count": null,
   "id": "3d75d217",
   "metadata": {},
   "outputs": [],
   "source": []
  },
  {
   "cell_type": "code",
   "execution_count": 119,
   "id": "4eb10ffc",
   "metadata": {},
   "outputs": [
    {
     "data": {
      "text/html": [
       "<dl class=dl-horizontal>\n",
       "\t<dt>shape</dt>\n",
       "\t\t<dd>2.75890478795538</dd>\n",
       "\t<dt>rate</dt>\n",
       "\t\t<dd>1.45404441098548</dd>\n",
       "</dl>\n"
      ],
      "text/latex": [
       "\\begin{description*}\n",
       "\\item[shape] 2.75890478795538\n",
       "\\item[rate] 1.45404441098548\n",
       "\\end{description*}\n"
      ],
      "text/markdown": [
       "shape\n",
       ":   2.75890478795538rate\n",
       ":   1.45404441098548\n",
       "\n"
      ],
      "text/plain": [
       "   shape     rate \n",
       "2.758905 1.454044 "
      ]
     },
     "metadata": {},
     "output_type": "display_data"
    },
    {
     "data": {
      "text/html": [
       "<dl class=dl-horizontal>\n",
       "\t<dt>shape</dt>\n",
       "\t\t<dd>4.65017499974226</dd>\n",
       "\t<dt>rate</dt>\n",
       "\t\t<dd>5.10432946489311</dd>\n",
       "</dl>\n"
      ],
      "text/latex": [
       "\\begin{description*}\n",
       "\\item[shape] 4.65017499974226\n",
       "\\item[rate] 5.10432946489311\n",
       "\\end{description*}\n"
      ],
      "text/markdown": [
       "shape\n",
       ":   4.65017499974226rate\n",
       ":   5.10432946489311\n",
       "\n"
      ],
      "text/plain": [
       "   shape     rate \n",
       "4.650175 5.104329 "
      ]
     },
     "metadata": {},
     "output_type": "display_data"
    },
    {
     "data": {
      "text/html": [
       "<strong>rate:</strong> 0.496781195933074"
      ],
      "text/latex": [
       "\\textbf{rate:} 0.496781195933074"
      ],
      "text/markdown": [
       "**rate:** 0.496781195933074"
      ],
      "text/plain": [
       "     rate \n",
       "0.4967812 "
      ]
     },
     "metadata": {},
     "output_type": "display_data"
    },
    {
     "data": {
      "text/html": [
       "<dl class=dl-horizontal>\n",
       "\t<dt>shape</dt>\n",
       "\t\t<dd>10.7632683843003</dd>\n",
       "\t<dt>rate</dt>\n",
       "\t\t<dd>1.02047275012135</dd>\n",
       "</dl>\n"
      ],
      "text/latex": [
       "\\begin{description*}\n",
       "\\item[shape] 10.7632683843003\n",
       "\\item[rate] 1.02047275012135\n",
       "\\end{description*}\n"
      ],
      "text/markdown": [
       "shape\n",
       ":   10.7632683843003rate\n",
       ":   1.02047275012135\n",
       "\n"
      ],
      "text/plain": [
       "    shape      rate \n",
       "10.763268  1.020473 "
      ]
     },
     "metadata": {},
     "output_type": "display_data"
    }
   ],
   "source": [
    "#step5 Find parameters\n",
    "fitdist(data$Inter.arrival.time.minutes, 'gamma')$estimate\n",
    "fitdist(data$service.time.minutes., 'gamma')$estimate\n",
    "#fitdist(data$waiting.time, 'exp')$estimate ATM waiting time fixed\n",
    "fitdist(data$waiting.time.for.counter.table, 'exp')$estimate\n",
    "fitdist(data$service.time.for.counter.table, 'gamma')$estimate"
   ]
  },
  {
   "cell_type": "code",
   "execution_count": null,
   "id": "f0160835",
   "metadata": {},
   "outputs": [],
   "source": [
    "hist(data$Inter.arrival.time.minutes., main = \"Interarrival Time Distribution\", xlab = \"Interarrival Time\", col = \"blue\", border = \"black\")\n",
    "hist(data$service.time.minutes., main = \"service Time Distribution\", xlab = \"Interarrival Time\", col = \"blue\", border = \"black\")\n",
    "hist(data$waiting.time.for.counter.table, main = \"waiting.time.for.counter.table\", xlab = \"Interarrival Time\", col = \"blue\", border = \"black\")\n",
    "hist(data$service.time.for.counter.table, main = \"service.time.for.counter.table\", xlab = \"Interarrival Time\", col = \"blue\", border = \"black\")\n",
    "fitdist(data$Inter.arrival.time.minutes, 'exp')$estimate\n",
    "fitdist(data$service.time.minutes., 'gamma')$estimate\n",
    "fitdist(data$waiting.time.for.counter.table, 'exp')$estimate\n",
    "fitdist(data$service.time.for.counter.table, 'gamma')$estimate\n"
   ]
  },
  {
   "cell_type": "code",
   "execution_count": 18,
   "id": "cb1fe907",
   "metadata": {},
   "outputs": [
    {
     "data": {
      "image/png": "[encoded data removed]",
      "text/plain": [
       "Plot with title \"Interarrival Time Distribution\""
      ]
     },
     "metadata": {},
     "output_type": "display_data"
    },
    {
     "data": {
      "image/png": "[encoded data removed]",
      "text/plain": [
       "Plot with title \"Service Time Distribution\""
      ]
     },
     "metadata": {},
     "output_type": "display_data"
    },
    {
     "data": {
      "image/png": "[encoded data removed]",
      "text/plain": [
       "Plot with title \"Waiting Time Distribution\""
      ]
     },
     "metadata": {},
     "output_type": "display_data"
    },
    {
     "data": {
      "image/png": "[encoded data removed]",
      "text/plain": [
       "Plot with title \"Service Time for Counter Table Distribution\""
      ]
     },
     "metadata": {},
     "output_type": "display_data"
    }
   ],
   "source": [
    "# Fit distributions\n",
    "inter_arrival_fit <- fitdist(data$Inter.arrival.time.minutes, 'exp')\n",
    "service_time_fit <- fitdist(data$service.time.minutes., 'gamma')\n",
    "waiting_time_fit <- fitdist(data$waiting.time.for.counter.table, 'exp')\n",
    "service_time_counter_fit <- fitdist(data$service.time.for.counter.table, 'gamma')\n",
    "\n",
    "# Plot histograms\n",
    "hist(data$Inter.arrival.time.minutes., main = \"Interarrival Time Distribution\", xlab = \"Interarrival Time\", col = \"blue\", border = \"black\")\n",
    "hist(data$service.time.minutes., main = \"Service Time Distribution\", xlab = \"Service Time\", col = \"blue\", border = \"black\")\n",
    "hist(data$waiting.time.for.counter.table, main = \"Waiting Time Distribution\", xlab = \"Waiting Time\", col = \"blue\", border = \"black\")\n",
    "hist(data$service.time.for.counter.table, main = \"Service Time for Counter Table Distribution\", xlab = \"Service Time\", col = \"blue\", border = \"black\")\n",
    "\n",
    "# Add fitted distribution curves\n",
    "x_values <- seq(min(data$Inter.arrival.time.minutes), max(data$Inter.arrival.time.minutes), length.out = 100)\n",
    "lines(x_values, dexp(x_values, rate = inter_arrival_fit$estimate[[\"rate\"]]), col = \"red\", lwd = 2)\n",
    "\n",
    "x_values <- seq(min(data$service.time.minutes.), max(data$service.time.minutes.), length.out = 100)\n",
    "lines(x_values, dgamma(x_values, shape = service_time_fit$estimate[[\"shape\"]], rate = service_time_fit$estimate[[\"rate\"]]), col = \"red\", lwd = 2)\n",
    "\n",
    "x_values <- seq(min(data$waiting.time.for.counter.table), max(data$waiting.time.for.counter.table), length.out = 100)\n",
    "lines(x_values, dexp(x_values, rate = waiting_time_fit$estimate[[\"rate\"]]), col = \"red\", lwd = 2)\n",
    "\n",
    "x_values <- seq(min(data$service.time.for.counter.table), max(data$service.time.for.counter.table), length.out = 100)\n",
    "lines(x_values, dgamma(x_values, shape = service_time_counter_fit$estimate[[\"shape\"]], rate = service_time_counter_fit$estimate[[\"rate\"]]), col = \"red\", lwd = 2)"
   ]
  },
  {
   "cell_type": "code",
   "execution_count": 19,
   "id": "902f39c8",
   "metadata": {},
   "outputs": [
    {
     "name": "stdout",
     "output_type": "stream",
     "text": [
      "<simpleError in optim(par = vstart, fn = fnobj, fix.arg = fix.arg, obs = data,     gr = gradient, ddistnam = ddistname, hessian = TRUE, method = meth,     lower = lower, upper = upper, ...): 无法用初始参数来评估函数>\n"
     ]
    },
    {
     "ename": "ERROR",
     "evalue": "Error in fitdist(normalized_data$service.time.minutes., \"gamma\"): the function mle failed to estimate the parameters, \n                with the error code 100\n\n",
     "output_type": "error",
     "traceback": [
      "Error in fitdist(normalized_data$service.time.minutes., \"gamma\"): the function mle failed to estimate the parameters, \n                with the error code 100\n\nTraceback:\n",
      "1. fitdist(normalized_data$service.time.minutes., \"gamma\")",
      "2. stop(\"the function mle failed to estimate the parameters, \\n                with the error code \", \n .     mle$convergence, \"\\n\")"
     ]
    }
   ],
   "source": [
    "# 归一化函数\n",
    "normalize <- function(x) {\n",
    "  return((x - min(x)) / (max(x) - min(x)))\n",
    "}\n",
    "\n",
    "# 对数据进行归一化\n",
    "normalized_data <- data.frame(\n",
    "  Inter.arrival.time.minutes. = normalize(data$Inter.arrival.time.minutes.),\n",
    "  waiting.time = normalize(data$waiting.time),\n",
    "  service.time.minutes. = normalize(data$service.time.minutes.),\n",
    "  waiting.time.for.counter.table = normalize(data$waiting.time.for.counter.table),\n",
    "  service.time.for.counter.table = normalize(data$service.time.for.counter.table)\n",
    ")\n",
    "\n",
    "# Fit distributions\n",
    "inter_arrival_fit <- fitdist(normalized_data$Inter.arrival.time.minutes., 'exp')\n",
    "service_time_fit <- fitdist(normalized_data$service.time.minutes., 'gamma')\n",
    "waiting_time_fit <- fitdist(normalized_data$waiting.time.for.counter.table, 'exp')\n",
    "service_time_counter_fit <- fitdist(normalized_data$service.time.for.counter.table, 'gamma')\n",
    "\n",
    "# Plot histograms\n",
    "hist(normalized_data$Inter.arrival.time.minutes., main = \"Interarrival Time Distribution\", xlab = \"Interarrival Time\", col = \"blue\", border = \"black\")\n",
    "hist(normalized_data$service.time.minutes., main = \"Service Time Distribution\", xlab = \"Service Time\", col = \"blue\", border = \"black\")\n",
    "hist(normalized_data$waiting.time.for.counter.table, main = \"Waiting Time Distribution\", xlab = \"Waiting Time\", col = \"blue\", border = \"black\")\n",
    "hist(normalized_data$service.time.for.counter.table, main = \"Service Time for Counter Table Distribution\", xlab = \"Service Time\", col = \"blue\", border = \"black\")\n",
    "\n",
    "# Add fitted distribution curves\n",
    "x_values <- seq(min(normalized_data$Inter.arrival.time.minutes.), max(normalized_data$Inter.arrival.time.minutes.), length.out = 100)\n",
    "lines(x_values, dexp(x_values, rate = inter_arrival_fit$estimate[[\"rate\"]]), col = \"red\", lwd = 2)\n",
    "\n",
    "x_values <- seq(min(normalized_data$service.time.minutes.), max(normalized_data$service.time.minutes.), length.out = 100)\n",
    "lines(x_values, dgamma(x_values, shape = service_time_fit$estimate[[\"shape\"]], rate = service_time_fit$estimate[[\"rate\"]]), col = \"red\", lwd = 2)\n",
    "\n",
    "x_values <- seq(min(normalized_data$waiting.time.for.counter.table), max(normalized_data$waiting.time.for.counter.table), length.out = 100)\n",
    "lines(x_values, dexp(x_values, rate = waiting_time_fit$estimate[[\"rate\"]]), col = \"red\", lwd = 2)\n",
    "\n",
    "x_values <- seq(min(normalized_data$service.time.for.counter.table), max(normalized_data$service.time.for.counter.table), length.out = 100)\n",
    "lines(x_values, dgamma(x_values, shape = service_time_counter_fit$estimate[[\"shape\"]], rate = service_time_counter_fit$estimate[[\"rate\"]]), col = \"red\", lwd = 2)"
   ]
  },
  {
   "cell_type": "code",
   "execution_count": 20,
   "id": "3855d666",
   "metadata": {},
   "outputs": [
    {
     "name": "stdout",
     "output_type": "stream",
     "text": [
      "<simpleError in optim(par = vstart, fn = fnobj, fix.arg = fix.arg, obs = data,     gr = gradient, ddistnam = ddistname, hessian = TRUE, method = meth,     lower = lower, upper = upper, ...): non-finite finite-difference value [2]>\n"
     ]
    },
    {
     "ename": "ERROR",
     "evalue": "Error in fitdist(data$waiting.time, \"norm\"): the function mle failed to estimate the parameters, \n                with the error code 100\n\n",
     "output_type": "error",
     "traceback": [
      "Error in fitdist(data$waiting.time, \"norm\"): the function mle failed to estimate the parameters, \n                with the error code 100\n\nTraceback:\n",
      "1. fitdist(data$waiting.time, \"norm\")",
      "2. stop(\"the function mle failed to estimate the parameters, \\n                with the error code \", \n .     mle$convergence, \"\\n\")"
     ]
    }
   ],
   "source": [
    "# AIC values for different distributions\n",
    "aic_values <- c(\n",
    "  fitdist(data$Inter.arrival.time.minutes, 'norm')$aic,\n",
    "  fitdist(data$Inter.arrival.time.minutes, 'exp')$aic,\n",
    "  fitdist(data$service.time.minutes., 'gamma')$aic,\n",
    "  fitdist(data$service.time.minutes., 'norm')$aic,\n",
    "  fitdist(data$service.time.minutes., 'exp')$aic,\n",
    "  fitdist(data$waiting.time, 'exp')$aic,\n",
    "  fitdist(data$waiting.time, 'norm')$aic,\n",
    "  fitdist(data$waiting.time.for.counter.table, 'exp')$aic,\n",
    "  fitdist(data$waiting.time.for.counter.table, 'norm')$aic,\n",
    "  fitdist(data$service.time.for.counter.table, 'exp')$aic,\n",
    "  fitdist(data$service.time.for.counter.table, 'norm')$aic,\n",
    "  fitdist(data$service.time.for.counter.table, 'gamma')$aic\n",
    ")\n",
    "\n",
    "# Create a data frame\n",
    "distribution_table <- data.frame(\n",
    "  Distribution = c(\n",
    "    \"Normal (Inter-arrival time)\",\n",
    "    \"Exponential (Inter-arrival time)\",\n",
    "    \"Gamma (Service time)\",\n",
    "    \"Normal (Service time)\",\n",
    "    \"Exponential (Service time)\",\n",
    "    \"Exponential (Waiting time)\",\n",
    "    \"Normal (Waiting time)\",\n",
    "    \"Exponential (Waiting time for counter)\",\n",
    "    \"Normal (Waiting time for counter)\",\n",
    "    \"Exponential (Service time for counter)\",\n",
    "    \"Normal (Service time for counter)\",\n",
    "    \"Gamma (Service time for counter)\"\n",
    "  ),\n",
    "  AIC_Value = aic_values\n",
    ")\n",
    "\n",
    "# Print the table\n",
    "print(distribution_table)"
   ]
  },
  {
   "cell_type": "code",
   "execution_count": 29,
   "id": "600485ae",
   "metadata": {},
   "outputs": [
    {
     "name": "stdout",
     "output_type": "stream",
     "text": [
      "                             Distribution  AIC_Value\n",
      "1             Normal (Inter-arrival time)  165.98220\n",
      "2        Exponential (Inter-arrival time)  150.46875\n",
      "3                    Gamma (Service time)   42.27494\n",
      "4                   Normal (Service time)   52.54221\n",
      "5              Exponential (Service time)   96.07861\n",
      "6              Exponential (Waiting time) -580.39506\n",
      "7                   Normal (Waiting time) -434.92299\n",
      "8  Exponential (Waiting time for counter)  188.15706\n",
      "9       Normal (Waiting time for counter)  210.09237\n",
      "10 Exponential (Service time for counter)  300.47006\n",
      "11      Normal (Service time for counter)  287.03719\n",
      "12       Gamma (Service time for counter)  285.91278\n"
     ]
    }
   ],
   "source": [
    "# AIC values for different distributions\n",
    "aic_values <- c(\n",
    "  fitdist(data$Inter.arrival.time.minutes, 'norm')$aic,\n",
    "  fitdist(data$Inter.arrival.time.minutes, 'exp')$aic,\n",
    "  fitdist(data$service.time.minutes., 'gamma')$aic,\n",
    "  fitdist(data$service.time.minutes., 'norm')$aic,\n",
    "  fitdist(data$service.time.minutes., 'exp')$aic,\n",
    "  fitdist(data$waiting.time, 'exp')$aic,\n",
    "  fitdist(data$waiting.time, 'norm')$aic,\n",
    "  fitdist(data$waiting.time.for.counter.table, 'exp')$aic,\n",
    "  fitdist(data$waiting.time.for.counter.table, 'norm')$aic,\n",
    "  fitdist(data$service.time.for.counter.table, 'exp')$aic,\n",
    "  fitdist(data$service.time.for.counter.table, 'norm')$aic,\n",
    "  fitdist(data$service.time.for.counter.table, 'gamma')$aic\n",
    ")\n",
    "\n",
    "# Create a data frame\n",
    "distribution_table <- data.frame(\n",
    "  Distribution = c(\n",
    "    \"Normal (Inter-arrival time)\",\n",
    "    \"Exponential (Inter-arrival time)\",\n",
    "    \"Gamma (Service time)\",\n",
    "    \"Normal (Service time)\",\n",
    "    \"Exponential (Service time)\",\n",
    "    \"Exponential (Waiting time)\",\n",
    "    \"Normal (Waiting time)\",\n",
    "    \"Exponential (Waiting time for counter)\",\n",
    "    \"Normal (Waiting time for counter)\",\n",
    "    \"Exponential (Service time for counter)\",\n",
    "    \"Normal (Service time for counter)\",\n",
    "    \"Gamma (Service time for counter)\"\n",
    "  ),\n",
    "  AIC_Value = aic_values\n",
    ")\n",
    "\n",
    "# Print the table\n",
    "print(distribution_table)"
   ]
  },
  {
   "cell_type": "code",
   "execution_count": 59,
   "id": "44412105",
   "metadata": {},
   "outputs": [
    {
     "data": {
      "image/png": "[encoded data removed]",
      "text/plain": [
       "Plot with title \"Interarrival Time Distribution\""
      ]
     },
     "metadata": {},
     "output_type": "display_data"
    }
   ],
   "source": [
    "# hist(data$Inter.arrival.time.minutes., main = \"Interarrival Time Distribution\", xlab = \"Interarrival Time\", col = \"blue\", border = \"black\")\n",
    "# hist(data$service.time.minutes., main = \"service Time Distribution\", xlab = \"Interarrival Time\", col = \"blue\", border = \"black\")\n",
    "# #hist(data$waiting.time, main = \"waiting Time Distribution\", xlab = \"Interarrival Time\", col = \"blue\", border = \"black\")\n",
    "# hist(data$waiting.time.for.counter.table, main = \"waiting.time.for.counter.table\", xlab = \"Interarrival Time\", col = \"blue\", border = \"black\")\n",
    "# hist(data$service.time.for.counter.table, main = \"service.time.for.counter.table\", xlab = \"Interarrival Time\", col = \"blue\", border = \"black\")\n",
    "x <- seq(0,8,0.01)\n",
    "par(mfrow=c(2,2))\n",
    "hist(data$Inter.arrival.time.minutes.,freq=FALSE, main = \"Interarrival Time Distribution\", xlab = \"Interarrival Time\", col = \"blue\", border = \"black\")\n",
    "lines(density(data$Inter.arrival.time.minutes.), col='red', lwd=5)\n",
    "exponential_pdf <- function(x, lambda) {\n",
    "  lambda * exp(-lambda * x)\n",
    "}\n",
    "\n",
    "# 设置速率参数\n",
    "lambda <- 0.7\n",
    "\n",
    "# 绘制指数分布的概率密度函数\n",
    "curve(exponential_pdf(x, lambda), from = 0, to = 5, col = \"blue\", lwd = 2,\n",
    "      main = \"Exponential Distribution PDF\", xlab = \"x\", ylab = \"Density\")\n",
    "hist(data$Inter.arrival.time.minutes.,freq=FALSE, main = \"Interarrival Time Distribution\", xlab = \"Interarrival Time\", col = \"blue\", border = \"black\")\n",
    "lines(density(data$Inter.arrival.time.minutes.), col='red', lwd=5)"
   ]
  },
  {
   "cell_type": "code",
   "execution_count": 120,
   "id": "b07e9ab5",
   "metadata": {},
   "outputs": [
    {
     "data": {
      "image/png": "[encoded data removed]",
      "text/plain": [
       "Plot with title \"Gamma Distribution\""
      ]
     },
     "metadata": {},
     "output_type": "display_data"
    }
   ],
   "source": [
    "# 设置随机数种子，以确保结果可重复\n",
    "set.seed(123)\n",
    "\n",
    "# 指定Gamma分布的形状和速率参数\n",
    "shape_parameter <- 4.65017499974226\n",
    "rate_parameter <- 5.10432946489311\n",
    "\n",
    "# 生成Gamma分布的随机样本\n",
    "gamma_samples <- rgamma(1000, shape = shape_parameter, rate = rate_parameter)\n",
    "\n",
    "# 绘制直方图\n",
    "hist(gamma_samples, main = \"Gamma Distribution\",\n",
    "     xlab = \"Value\", ylab = \"Frequency\",\n",
    "     col = \"lightblue\", border = \"black\")"
   ]
  },
  {
   "cell_type": "code",
   "execution_count": null,
   "id": "fe57ed11",
   "metadata": {},
   "outputs": [],
   "source": []
  }
 ],
 "metadata": {
  "kernelspec": {
   "display_name": "R",
   "language": "R",
   "name": "ir"
  },
  "language_info": {
   "codemirror_mode": "r",
   "file_extension": ".r",
   "mimetype": "text/x-r-source",
   "name": "R",
   "pygments_lexer": "r",
   "version": "3.6.1"
  }
 },
 "nbformat": 4,
 "nbformat_minor": 5
}
